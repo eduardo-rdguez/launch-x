{
 "cells": [
  {
   "cell_type": "code",
   "execution_count": 8,
   "metadata": {},
   "outputs": [
    {
     "name": "stdout",
     "output_type": "stream",
     "text": [
      "Planet name: Mars\n",
      "Moons of the planet Mars: 2\n",
      "Polar circumference of the planet Mars: 6752\n"
     ]
    }
   ],
   "source": [
    "planet = {\n",
    "    \"name\": \"Mars\",\n",
    "    \"moons\": 2\n",
    "}\n",
    "\n",
    "planet_name = planet.get(\"name\")\n",
    "planet_moons = planet.get(\"moons\")\n",
    "\n",
    "print(f\"Planet name: {planet_name}\")\n",
    "print(f\"Moons of the planet {planet_name}: {planet_moons}\")\n",
    "\n",
    "planet[\"circunferencia (km)\"] = {\n",
    "    \"polar\": 6752,\n",
    "    \"equatorial\": 6792\n",
    "}\n",
    "\n",
    "polar_circumference = planet[\"circunferencia (km)\"][\"polar\"]\n",
    "\n",
    "print(f\"Polar circumference of the planet {planet_name}: {polar_circumference}\")\n"
   ]
  }
 ],
 "metadata": {
  "interpreter": {
   "hash": "b0fa6594d8f4cbf19f97940f81e996739fb7646882a419484c72d19e05852a7e"
  },
  "kernelspec": {
   "display_name": "Python 3.9.10 64-bit",
   "language": "python",
   "name": "python3"
  },
  "language_info": {
   "codemirror_mode": {
    "name": "ipython",
    "version": 3
   },
   "file_extension": ".py",
   "mimetype": "text/x-python",
   "name": "python",
   "nbconvert_exporter": "python",
   "pygments_lexer": "ipython3",
   "version": "3.9.10"
  },
  "orig_nbformat": 4
 },
 "nbformat": 4,
 "nbformat_minor": 2
}
