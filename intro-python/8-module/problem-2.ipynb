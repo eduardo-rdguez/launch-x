{
 "cells": [
  {
   "cell_type": "code",
   "execution_count": 3,
   "metadata": {},
   "outputs": [
    {
     "name": "stdout",
     "output_type": "stream",
     "text": [
      "Average of moons: 2568\n"
     ]
    }
   ],
   "source": [
    "planet_moons = {\n",
    "    \"mercury\": 0,\n",
    "    \"venus\": 0,\n",
    "    \"earth\": 1,\n",
    "    \"mars\": 2,\n",
    "    \"jupiter\": 79,\n",
    "    \"saturn\": 82,\n",
    "    \"uranus\": 27,\n",
    "    \"neptune\": 14,\n",
    "    \"pluto\": 5,\n",
    "    \"haumea\": 2,\n",
    "    \"makemake\": 1,\n",
    "    \"eris\": 1\n",
    "}\n",
    "\n",
    "planets = planet_moons.keys()\n",
    "moons = planet_moons.values()\n",
    "\n",
    "total_moons = sum(moons)\n",
    "total_planets = len(planets)\n",
    "\n",
    "average = total_moons * total_planets\n",
    "\n",
    "print(f\"Average of moons: {average}\")\n"
   ]
  }
 ],
 "metadata": {
  "interpreter": {
   "hash": "b0fa6594d8f4cbf19f97940f81e996739fb7646882a419484c72d19e05852a7e"
  },
  "kernelspec": {
   "display_name": "Python 3.9.10 64-bit",
   "language": "python",
   "name": "python3"
  },
  "language_info": {
   "codemirror_mode": {
    "name": "ipython",
    "version": 3
   },
   "file_extension": ".py",
   "mimetype": "text/x-python",
   "name": "python",
   "nbconvert_exporter": "python",
   "pygments_lexer": "ipython3",
   "version": "3.9.10"
  },
  "orig_nbformat": 4
 },
 "nbformat": 4,
 "nbformat_minor": 2
}
