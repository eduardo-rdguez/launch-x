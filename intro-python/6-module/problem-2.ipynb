{
 "cells": [
  {
   "cell_type": "code",
   "execution_count": 18,
   "metadata": {},
   "outputs": [
    {
     "name": "stdout",
     "output_type": "stream",
     "text": [
      "The nearest planets to Earth are Mercury Venus\n",
      "The farthest planets to Earth are Mars Jupiter Saturn Uranus Neptune\n"
     ]
    }
   ],
   "source": [
    "planets = [\"Mercury\", \"Venus\", \"Earth\", \"Mars\", \"Jupiter\", \"Saturn\", \"Uranus\", \"Neptune\"]\n",
    "user_planet = input(\"Please enter the name of the planet to search: \")\n",
    "\n",
    "planet_index = planets.index(user_planet)\n",
    "nearest_planets = ' '.join(planets[0:planet_index])\n",
    "farthest_planets = ' '.join(planets[planet_index + 1:])\n",
    "\n",
    "print(f\"The nearest planets to {user_planet} are {nearest_planets}\")\n",
    "print(f\"The farthest planets to {user_planet} are {farthest_planets}\")\n"
   ]
  }
 ],
 "metadata": {
  "interpreter": {
   "hash": "b0fa6594d8f4cbf19f97940f81e996739fb7646882a419484c72d19e05852a7e"
  },
  "kernelspec": {
   "display_name": "Python 3.9.10 64-bit",
   "language": "python",
   "name": "python3"
  },
  "language_info": {
   "codemirror_mode": {
    "name": "ipython",
    "version": 3
   },
   "file_extension": ".py",
   "mimetype": "text/x-python",
   "name": "python",
   "nbconvert_exporter": "python",
   "pygments_lexer": "ipython3",
   "version": "3.9.10"
  },
  "orig_nbformat": 4
 },
 "nbformat": 4,
 "nbformat_minor": 2
}
