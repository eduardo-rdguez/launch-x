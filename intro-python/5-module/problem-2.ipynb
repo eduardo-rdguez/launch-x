{
 "cells": [
  {
   "cell_type": "code",
   "execution_count": 1,
   "metadata": {},
   "outputs": [
    {
     "name": "stdout",
     "output_type": "stream",
     "text": [
      "Distance between planet Earth and Jupiter in km 390577533.93\n",
      "Distance between planet Earth and Jupiter in mi 390577533.93\n"
     ]
    }
   ],
   "source": [
    "distance_earth = int(input('Introduzca distancia del planeta Tierra en KM:'))\n",
    "distance_jupyter = int(input('Introduzca distancia del planeta Jupiter en KM:'))\n",
    "\n",
    "distance_in_km = distance_earth - distance_jupyter\n",
    "distance_in_mi = distance_in_km * 0.621\n",
    "\n",
    "print(\"Distance between planet Earth and Jupiter in km\", abs(distance_in_mi))\n",
    "print(\"Distance between planet Earth and Jupiter in mi\", abs(distance_in_mi))\n"
   ]
  }
 ],
 "metadata": {
  "interpreter": {
   "hash": "b0fa6594d8f4cbf19f97940f81e996739fb7646882a419484c72d19e05852a7e"
  },
  "kernelspec": {
   "display_name": "Python 3.9.10 64-bit",
   "language": "python",
   "name": "python3"
  },
  "language_info": {
   "codemirror_mode": {
    "name": "ipython",
    "version": 3
   },
   "file_extension": ".py",
   "mimetype": "text/x-python",
   "name": "python",
   "nbconvert_exporter": "python",
   "pygments_lexer": "ipython3",
   "version": "3.9.10"
  },
  "orig_nbformat": 4
 },
 "nbformat": 4,
 "nbformat_minor": 2
}
