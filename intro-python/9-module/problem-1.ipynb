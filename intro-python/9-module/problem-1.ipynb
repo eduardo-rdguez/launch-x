{
 "cells": [
  {
   "cell_type": "code",
   "execution_count": 7,
   "metadata": {},
   "outputs": [
    {
     "name": "stdout",
     "output_type": "stream",
     "text": [
      "\n",
      "    First Tank: 1\n",
      "    Second Tank: 2\n",
      "    Thirth Tank: 3\n",
      "    Average: 6.0\n",
      "    \n"
     ]
    }
   ],
   "source": [
    "def generate_report(first_tank, second_tank, thirth_tank):\n",
    "    average = calculate_average([first_tank + second_tank + thirth_tank])\n",
    "    report = f\"\"\"\n",
    "    First Tank: {first_tank}\n",
    "    Second Tank: {second_tank}\n",
    "    Thirth Tank: {thirth_tank}\n",
    "    Average: {average}\n",
    "    \"\"\"\n",
    "    return report\n",
    "\n",
    "\n",
    "def calculate_average(tanks):\n",
    "    total_tanks = sum(tanks)\n",
    "    number_of_tanks = len(tanks)\n",
    "    return total_tanks / number_of_tanks\n",
    "\n",
    "\n",
    "report_generated = generate_report(1, 2, 3)\n",
    "print(report_generated)\n"
   ]
  }
 ],
 "metadata": {
  "interpreter": {
   "hash": "b0fa6594d8f4cbf19f97940f81e996739fb7646882a419484c72d19e05852a7e"
  },
  "kernelspec": {
   "display_name": "Python 3.9.10 64-bit",
   "language": "python",
   "name": "python3"
  },
  "language_info": {
   "codemirror_mode": {
    "name": "ipython",
    "version": 3
   },
   "file_extension": ".py",
   "mimetype": "text/x-python",
   "name": "python",
   "nbconvert_exporter": "python",
   "pygments_lexer": "ipython3",
   "version": "3.9.10"
  },
  "orig_nbformat": 4
 },
 "nbformat": 4,
 "nbformat_minor": 2
}
