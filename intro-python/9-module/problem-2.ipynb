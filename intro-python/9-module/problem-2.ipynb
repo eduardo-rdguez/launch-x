{
 "cells": [
  {
   "cell_type": "code",
   "execution_count": 5,
   "metadata": {},
   "outputs": [
    {
     "name": "stdout",
     "output_type": "stream",
     "text": [
      "\n",
      "    Destination: Rome, Italy\n",
      "    Travel Time: 185 min.\n",
      "    Total Fuel: 60000 gal.\n",
      "    \n"
     ]
    }
   ],
   "source": [
    "def generate_accurate_report(destination, *minutes, **fuel_reservoirs):\n",
    "    travel_time = sum(minutes)\n",
    "    total_fuel = sum(fuel_reservoirs.values())\n",
    "\n",
    "    report = f\"\"\"\n",
    "    Destination: {destination}\n",
    "    Travel Time: {travel_time} min.\n",
    "    Total Fuel: {total_fuel} gal.\n",
    "    \"\"\"\n",
    "    return report\n",
    "\n",
    "\n",
    "report_generated = generate_accurate_report(\"Rome, Italy\", 60, 110, 15, main=20000, external=40000)\n",
    "print(report_generated)\n"
   ]
  }
 ],
 "metadata": {
  "interpreter": {
   "hash": "b0fa6594d8f4cbf19f97940f81e996739fb7646882a419484c72d19e05852a7e"
  },
  "kernelspec": {
   "display_name": "Python 3.9.10 64-bit",
   "language": "python",
   "name": "python3"
  },
  "language_info": {
   "codemirror_mode": {
    "name": "ipython",
    "version": 3
   },
   "file_extension": ".py",
   "mimetype": "text/x-python",
   "name": "python",
   "nbconvert_exporter": "python",
   "pygments_lexer": "ipython3",
   "version": "3.9.6"
  },
  "orig_nbformat": 4
 },
 "nbformat": 4,
 "nbformat_minor": 2
}
