{
 "cells": [
  {
   "cell_type": "code",
   "execution_count": 9,
   "metadata": {},
   "outputs": [
    {
     "name": "stdout",
     "output_type": "stream",
     "text": [
      "Gravity Fats about Moon\n",
      "------------\n",
      "Planet Name: Earth\n",
      "The gravity on the Moon is 1.62 m/s2\n"
     ]
    }
   ],
   "source": [
    "name = \"Moon\"\n",
    "gravity = 0.00162\n",
    "planet = \"Earth\"\n",
    "\n",
    "gravity_in_m = round(gravity * 1000, 2)\n",
    "\n",
    "template_title = \"Gravity Fats about Moon\"\n",
    "planet_title = f\"Planet Name: {planet}\"\n",
    "gravity_title = f\"The gravity on the Moon is {gravity_in_m} m/s2\"\n",
    "\n",
    "text = f\"{template_title}\\n------------\\n{planet_title}\\n{gravity_title}\"\n",
    "\n",
    "print(text)\n"
   ]
  }
 ],
 "metadata": {
  "interpreter": {
   "hash": "b0fa6594d8f4cbf19f97940f81e996739fb7646882a419484c72d19e05852a7e"
  },
  "kernelspec": {
   "display_name": "Python 3.9.10 64-bit",
   "language": "python",
   "name": "python3"
  },
  "language_info": {
   "codemirror_mode": {
    "name": "ipython",
    "version": 3
   },
   "file_extension": ".py",
   "mimetype": "text/x-python",
   "name": "python",
   "nbconvert_exporter": "python",
   "pygments_lexer": "ipython3",
   "version": "3.9.10"
  },
  "orig_nbformat": 4
 },
 "nbformat": 4,
 "nbformat_minor": 2
}
