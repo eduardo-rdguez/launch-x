{
 "cells": [
  {
   "cell_type": "code",
   "execution_count": 1,
   "metadata": {},
   "outputs": [
    {
     "name": "stdout",
     "output_type": "stream",
     "text": [
      "Wow! Mira un cometa, pide un deseo!\n"
     ]
    }
   ],
   "source": [
    "asteroid_speed = 22\n",
    "streak_of_light = 20\n",
    "\n",
    "if asteroid_speed >= streak_of_light:\n",
    "    print(\"Wow! Mira un cometa, pide un deseo!\")\n",
    "elif (asteroid_speed < streak_of_light):\n",
    "    print(\"Se alcanza a ver un rasho de luz\")\n",
    "else:\n",
    "    print(\"Mira las estrellas :D\")\n"
   ]
  }
 ],
 "metadata": {
  "interpreter": {
   "hash": "aee8b7b246df8f9039afb4144a1f6fd8d2ca17a180786b69acc140d282b71a49"
  },
  "kernelspec": {
   "display_name": "Python 3.9.6 64-bit",
   "language": "python",
   "name": "python3"
  },
  "language_info": {
   "codemirror_mode": {
    "name": "ipython",
    "version": 3
   },
   "file_extension": ".py",
   "mimetype": "text/x-python",
   "name": "python",
   "nbconvert_exporter": "python",
   "pygments_lexer": "ipython3",
   "version": "3.9.6"
  },
  "orig_nbformat": 4
 },
 "nbformat": 4,
 "nbformat_minor": 2
}
