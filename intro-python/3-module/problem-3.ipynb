{
 "cells": [
  {
   "cell_type": "code",
   "execution_count": 2,
   "metadata": {},
   "outputs": [
    {
     "name": "stdout",
     "output_type": "stream",
     "text": [
      "Advertencia, se acerca un asteroide muy peligroso D:\n"
     ]
    }
   ],
   "source": [
    "asteroid_size = 26\n",
    "asteroid_speed = 26\n",
    "\n",
    "if asteroid_size > 25 or asteroid_speed > 25:\n",
    "    print(\"Advertencia, se acerca un asteroide muy peligroso D:\")\n",
    "elif asteroid_speed >= 20:\n",
    "    print(\"Wow! Mira un cometa, pide un deseo!\")\n",
    "else:\n",
    "    print(\"Mira las estrellas :D\")\n"
   ]
  }
 ],
 "metadata": {
  "interpreter": {
   "hash": "aee8b7b246df8f9039afb4144a1f6fd8d2ca17a180786b69acc140d282b71a49"
  },
  "kernelspec": {
   "display_name": "Python 3.9.6 64-bit",
   "language": "python",
   "name": "python3"
  },
  "language_info": {
   "codemirror_mode": {
    "name": "ipython",
    "version": 3
   },
   "file_extension": ".py",
   "mimetype": "text/x-python",
   "name": "python",
   "nbconvert_exporter": "python",
   "pygments_lexer": "ipython3",
   "version": "3.9.6"
  },
  "orig_nbformat": 4
 },
 "nbformat": 4,
 "nbformat_minor": 2
}
